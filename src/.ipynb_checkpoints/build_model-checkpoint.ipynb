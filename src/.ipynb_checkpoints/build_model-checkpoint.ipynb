{
 "cells": [
  {
   "cell_type": "markdown",
   "metadata": {},
   "source": [
    "# This was originally located in the main directory outside src/"
   ]
  },
  {
   "cell_type": "code",
   "execution_count": 1,
   "metadata": {
    "colab": {
     "autoexec": {
      "startup": false,
      "wait_interval": 0
     },
     "base_uri": "https://localhost:8080/",
     "height": 34
    },
    "colab_type": "code",
    "executionInfo": {
     "elapsed": 2472,
     "status": "ok",
     "timestamp": 1529022472725,
     "user": {
      "displayName": "Rex Gao",
      "photoUrl": "https://lh3.googleusercontent.com/a/default-user=s128",
      "userId": "110474963976086057359"
     },
     "user_tz": 420
    },
    "id": "7rfYC_jmvHAF",
    "outputId": "4890de5b-d921-4612-fb26-94c2ede2cad5"
   },
   "outputs": [
    {
     "name": "stderr",
     "output_type": "stream",
     "text": [
      "C:\\ProgramData\\Anaconda3\\lib\\site-packages\\h5py\\__init__.py:36: FutureWarning: Conversion of the second argument of issubdtype from `float` to `np.floating` is deprecated. In future, it will be treated as `np.float64 == np.dtype(float).type`.\n",
      "  from ._conv import register_converters as _register_converters\n",
      "Using TensorFlow backend.\n"
     ]
    }
   ],
   "source": [
    "from keras.models import Sequential\n",
    "from keras.layers import Convolution2D, MaxPooling2D, Dense, Dropout, Activation, Flatten\t\n",
    "from keras.utils import to_categorical\n",
    "from collections import defaultdict\n",
    "import numpy as np\n",
    "import math\n",
    "import matplotlib.pyplot as plt\n",
    "from src import self\n",
    "%matplotlib inline"
   ]
  },
  {
   "cell_type": "code",
   "execution_count": 2,
   "metadata": {
    "colab": {
     "autoexec": {
      "startup": false,
      "wait_interval": 0
     }
    },
    "colab_type": "code",
    "id": "eDeshGd-6dl4"
   },
   "outputs": [],
   "source": [
    "signfile = open(\"data/signs.txt\", \"r\")\n",
    "signtoid = defaultdict()\n",
    "idtosign = defaultdict()\n",
    "for i, line in enumerate(signfile):\n",
    "    signtoid[line.split('\\n')[0]] = i\n",
    "    idtosign[i] = line.split('\\n')[0]"
   ]
  },
  {
   "cell_type": "code",
   "execution_count": 3,
   "metadata": {},
   "outputs": [],
   "source": [
    "ydata = self.tsvtodata(\"data/data.tsv\", signtoid)\n",
    "xdata = self.imgstodata(\"data/\", ydata)"
   ]
  },
  {
   "cell_type": "code",
   "execution_count": 6,
   "metadata": {
    "colab": {
     "autoexec": {
      "startup": false,
      "wait_interval": 0
     },
     "base_uri": "https://localhost:8080/",
     "height": 122
    },
    "colab_type": "code",
    "executionInfo": {
     "elapsed": 709,
     "status": "ok",
     "timestamp": 1529022475714,
     "user": {
      "displayName": "Rex Gao",
      "photoUrl": "https://lh3.googleusercontent.com/a/default-user=s128",
      "userId": "110474963976086057359"
     },
     "user_tz": 420
    },
    "id": "PoBuPmpqyOG5",
    "outputId": "8cf2a749-a2cf-43e1-cba9-6e009a15c957"
   },
   "outputs": [
    {
     "name": "stdout",
     "output_type": "stream",
     "text": [
      "Train data shape:  (221, 64, 64, 1)\n",
      "Train labels shape:  (221,)\n",
      "Validation data shape:  (118, 64, 64, 1)\n",
      "Validation labels shape:  (118,)\n",
      "Test data shape:  (196, 64, 64, 1)\n",
      "Test labels shape:  (196,)\n"
     ]
    }
   ],
   "source": [
    "X_train = []\n",
    "y_train = []\n",
    "X_test = []\n",
    "y_test = []\n",
    "X_val = []\n",
    "y_val = []\n",
    "test_rate = 0.5\n",
    "validation_rate = 0.3\n",
    "# training data will include 'omnglt' as a valuable resource, so rates exclude that\n",
    "for i, j in enumerate(np.random.permutation(len(xdata))):\n",
    "    if ydata[i]['source'] == 'omnglt':\n",
    "        X_train.append(xdata[i])\n",
    "        y_train.append(ydata[i])\n",
    "    elif j < np.floor(len(xdata) * test_rate):\n",
    "        X_test.append(xdata[i])\n",
    "        y_test.append(ydata[i])\n",
    "    elif j > np.floor(len(xdata) * (1.0 - validation_rate)):\n",
    "        X_val.append(xdata[i])\n",
    "        y_val.append(ydata[i])\n",
    "    else:\n",
    "        X_train.append(xdata[i])\n",
    "        y_train.append(ydata[i])\n",
    "X_train = np.array(X_train)\n",
    "y_train = np.array(y_train)\n",
    "X_test = np.array(X_test)\n",
    "y_test = np.array(y_test)\n",
    "X_val = np.array(X_val)\n",
    "y_val = np.array(y_val)\n",
    "print('Train data shape: ', X_train.shape)\n",
    "print('Train labels shape: ', y_train.shape)\n",
    "print('Validation data shape: ', X_val.shape)\n",
    "print('Validation labels shape: ', y_val.shape)\n",
    "print('Test data shape: ', X_test.shape)\n",
    "print('Test labels shape: ', y_test.shape)"
   ]
  },
  {
   "cell_type": "code",
   "execution_count": 7,
   "metadata": {
    "colab": {
     "autoexec": {
      "startup": false,
      "wait_interval": 0
     },
     "base_uri": "https://localhost:8080/",
     "height": 3021
    },
    "colab_type": "code",
    "executionInfo": {
     "elapsed": 60932,
     "status": "error",
     "timestamp": 1529023134316,
     "user": {
      "displayName": "Rex Gao",
      "photoUrl": "https://lh3.googleusercontent.com/a/default-user=s128",
      "userId": "110474963976086057359"
     },
     "user_tz": 420
    },
    "id": "EdoMFuB-_wHu",
    "outputId": "646755f9-345b-4ef3-cdf9-7abdd23c9ee8"
   },
   "outputs": [
    {
     "name": "stdout",
     "output_type": "stream",
     "text": [
      "Epoch 1/20\n",
      "221/221 [==============================] - 3s 14ms/step - loss: 3.7811 - acc: 0.0950\n",
      "Epoch 2/20\n",
      "221/221 [==============================] - 3s 12ms/step - loss: 3.1250 - acc: 0.2036\n",
      "Epoch 3/20\n",
      "221/221 [==============================] - 3s 11ms/step - loss: 2.6689 - acc: 0.3077\n",
      "Epoch 4/20\n",
      "221/221 [==============================] - 3s 11ms/step - loss: 1.9906 - acc: 0.4615\n",
      "Epoch 5/20\n",
      "221/221 [==============================] - 3s 11ms/step - loss: 1.3599 - acc: 0.6380\n",
      "Epoch 6/20\n",
      "221/221 [==============================] - 3s 11ms/step - loss: 0.8057 - acc: 0.7964\n",
      "Epoch 7/20\n",
      "221/221 [==============================] - 3s 12ms/step - loss: 0.3891 - acc: 0.9005\n",
      "Epoch 8/20\n",
      "221/221 [==============================] - 3s 11ms/step - loss: 0.1693 - acc: 0.9593\n",
      "Epoch 9/20\n",
      "221/221 [==============================] - 3s 11ms/step - loss: 0.0850 - acc: 0.9819\n",
      "Epoch 10/20\n",
      "221/221 [==============================] - 3s 12ms/step - loss: 0.0491 - acc: 0.9819\n",
      "Epoch 11/20\n",
      "221/221 [==============================] - 3s 13ms/step - loss: 0.0131 - acc: 1.0000\n",
      "Epoch 12/20\n",
      "221/221 [==============================] - 3s 13ms/step - loss: 0.0276 - acc: 0.9910\n",
      "Epoch 13/20\n",
      "221/221 [==============================] - 3s 13ms/step - loss: 0.0042 - acc: 1.0000\n",
      "Epoch 14/20\n",
      "221/221 [==============================] - 3s 15ms/step - loss: 0.0061 - acc: 1.0000\n",
      "Epoch 15/20\n",
      "221/221 [==============================] - 3s 13ms/step - loss: 0.0018 - acc: 1.0000\n",
      "Epoch 16/20\n",
      "221/221 [==============================] - 3s 14ms/step - loss: 0.0014 - acc: 1.0000\n",
      "Epoch 17/20\n",
      "221/221 [==============================] - 3s 13ms/step - loss: 0.0017 - acc: 1.0000\n",
      "Epoch 18/20\n",
      "221/221 [==============================] - 3s 12ms/step - loss: 0.0017 - acc: 1.0000\n",
      "Epoch 19/20\n",
      "221/221 [==============================] - 3s 13ms/step - loss: 0.0011 - acc: 1.0000\n",
      "Epoch 20/20\n",
      "221/221 [==============================] - 3s 12ms/step - loss: 7.1433e-04 - acc: 1.0000\n",
      "[3.740842880034933, 0.5204081632653061]\n",
      "Epoch 1/20\n",
      "221/221 [==============================] - 3s 15ms/step - loss: 0.7860 - acc: 0.7964\n",
      "Epoch 2/20\n",
      "221/221 [==============================] - 3s 12ms/step - loss: 0.2792 - acc: 0.9005\n",
      "Epoch 3/20\n",
      "221/221 [==============================] - 3s 13ms/step - loss: 0.2656 - acc: 0.9005\n",
      "Epoch 4/20\n",
      "221/221 [==============================] - 3s 13ms/step - loss: 0.2073 - acc: 0.9005\n",
      "Epoch 5/20\n",
      "221/221 [==============================] - 3s 13ms/step - loss: 0.1298 - acc: 0.9321\n",
      "Epoch 6/20\n",
      "221/221 [==============================] - 3s 12ms/step - loss: 0.0888 - acc: 0.9910\n",
      "Epoch 7/20\n",
      "221/221 [==============================] - 3s 12ms/step - loss: 0.0506 - acc: 0.9910\n",
      "Epoch 8/20\n",
      "221/221 [==============================] - 3s 13ms/step - loss: 0.0203 - acc: 1.0000\n",
      "Epoch 9/20\n",
      "221/221 [==============================] - 3s 12ms/step - loss: 0.0107 - acc: 1.0000\n",
      "Epoch 10/20\n",
      "221/221 [==============================] - 3s 13ms/step - loss: 0.0035 - acc: 1.0000\n",
      "Epoch 11/20\n",
      "221/221 [==============================] - 3s 13ms/step - loss: 0.0018 - acc: 1.0000\n",
      "Epoch 12/20\n",
      "221/221 [==============================] - 3s 12ms/step - loss: 8.7666e-04 - acc: 1.0000\n",
      "Epoch 13/20\n",
      "221/221 [==============================] - 3s 12ms/step - loss: 6.6901e-04 - acc: 1.0000\n",
      "Epoch 14/20\n",
      "221/221 [==============================] - 3s 12ms/step - loss: 4.6901e-04 - acc: 1.0000\n",
      "Epoch 15/20\n",
      "221/221 [==============================] - 3s 12ms/step - loss: 3.5532e-04 - acc: 1.0000\n",
      "Epoch 16/20\n",
      "221/221 [==============================] - 3s 12ms/step - loss: 3.0103e-04 - acc: 1.0000\n",
      "Epoch 17/20\n",
      "221/221 [==============================] - 3s 12ms/step - loss: 2.5010e-04 - acc: 1.0000\n",
      "Epoch 18/20\n",
      "221/221 [==============================] - 3s 12ms/step - loss: 2.0697e-04 - acc: 1.0000\n",
      "Epoch 19/20\n",
      "221/221 [==============================] - 3s 12ms/step - loss: 1.8058e-04 - acc: 1.0000\n",
      "Epoch 20/20\n",
      "221/221 [==============================] - 3s 12ms/step - loss: 1.6070e-04 - acc: 1.0000\n",
      "[0.08120135282972894, 0.9846938775510204]\n",
      "Epoch 1/20\n",
      "221/221 [==============================] - 3s 15ms/step - loss: 0.4692 - acc: 0.7602\n",
      "Epoch 2/20\n",
      "221/221 [==============================] - 3s 13ms/step - loss: 0.3647 - acc: 0.9774\n",
      "Epoch 3/20\n",
      "221/221 [==============================] - 3s 13ms/step - loss: 0.3647 - acc: 0.9774\n",
      "Epoch 4/20\n",
      "221/221 [==============================] - 3s 12ms/step - loss: 0.3647 - acc: 0.9774\n",
      "Epoch 5/20\n",
      "221/221 [==============================] - 3s 12ms/step - loss: 0.3647 - acc: 0.9774\n",
      "Epoch 6/20\n",
      "221/221 [==============================] - 3s 12ms/step - loss: 0.3647 - acc: 0.9774\n",
      "Epoch 7/20\n",
      "221/221 [==============================] - 3s 11ms/step - loss: 0.3647 - acc: 0.9774\n",
      "Epoch 8/20\n",
      "221/221 [==============================] - 3s 12ms/step - loss: 0.3647 - acc: 0.9774\n",
      "Epoch 9/20\n",
      "221/221 [==============================] - 3s 12ms/step - loss: 0.3647 - acc: 0.9774\n",
      "Epoch 10/20\n",
      "221/221 [==============================] - 3s 12ms/step - loss: 0.3647 - acc: 0.9774\n",
      "Epoch 11/20\n",
      "221/221 [==============================] - 3s 13ms/step - loss: 0.3647 - acc: 0.9774\n",
      "Epoch 12/20\n",
      "221/221 [==============================] - 3s 13ms/step - loss: 0.3647 - acc: 0.9774\n",
      "Epoch 13/20\n",
      "221/221 [==============================] - 3s 15ms/step - loss: 0.3647 - acc: 0.9774\n",
      "Epoch 14/20\n",
      "221/221 [==============================] - 3s 14ms/step - loss: 0.3647 - acc: 0.9774\n",
      "Epoch 15/20\n",
      "221/221 [==============================] - 3s 13ms/step - loss: 0.3647 - acc: 0.9774\n",
      "Epoch 16/20\n",
      "221/221 [==============================] - 3s 14ms/step - loss: 0.3647 - acc: 0.9774\n",
      "Epoch 17/20\n",
      "221/221 [==============================] - 3s 14ms/step - loss: 0.3647 - acc: 0.9774\n",
      "Epoch 18/20\n",
      "221/221 [==============================] - 3s 13ms/step - loss: 0.3647 - acc: 0.9774\n",
      "Epoch 19/20\n",
      "221/221 [==============================] - 3s 12ms/step - loss: 0.3647 - acc: 0.9774\n",
      "Epoch 20/20\n",
      "221/221 [==============================] - 3s 13ms/step - loss: 0.3647 - acc: 0.9774\n",
      "[1.1920928955078125e-07, 1.0]\n",
      "Epoch 1/20\n",
      "221/221 [==============================] - 4s 17ms/step - loss: 2.6299 - acc: 0.3982\n",
      "Epoch 2/20\n",
      "221/221 [==============================] - 3s 13ms/step - loss: 1.1883 - acc: 0.6968\n",
      "Epoch 3/20\n",
      "221/221 [==============================] - 3s 13ms/step - loss: 0.8471 - acc: 0.7964\n",
      "Epoch 4/20\n",
      "221/221 [==============================] - 3s 13ms/step - loss: 0.6181 - acc: 0.8552\n",
      "Epoch 5/20\n",
      "221/221 [==============================] - 3s 13ms/step - loss: 0.4158 - acc: 0.9095\n",
      "Epoch 6/20\n",
      "221/221 [==============================] - 3s 12ms/step - loss: 0.2526 - acc: 0.9367\n",
      "Epoch 7/20\n",
      "221/221 [==============================] - 3s 13ms/step - loss: 0.1407 - acc: 0.9683\n",
      "Epoch 8/20\n",
      "221/221 [==============================] - 3s 13ms/step - loss: 0.0451 - acc: 1.0000\n",
      "Epoch 9/20\n",
      "221/221 [==============================] - 3s 13ms/step - loss: 0.0232 - acc: 1.0000\n",
      "Epoch 10/20\n",
      "221/221 [==============================] - 3s 12ms/step - loss: 0.0077 - acc: 1.0000\n",
      "Epoch 11/20\n",
      "221/221 [==============================] - 3s 12ms/step - loss: 0.0040 - acc: 1.0000\n",
      "Epoch 12/20\n",
      "221/221 [==============================] - 3s 12ms/step - loss: 0.0022 - acc: 1.0000\n",
      "Epoch 13/20\n",
      "221/221 [==============================] - 3s 13ms/step - loss: 0.0013 - acc: 1.0000\n",
      "Epoch 14/20\n",
      "221/221 [==============================] - 3s 13ms/step - loss: 9.6497e-04 - acc: 1.0000\n",
      "Epoch 15/20\n",
      "221/221 [==============================] - 3s 13ms/step - loss: 7.5197e-04 - acc: 1.0000\n",
      "Epoch 16/20\n",
      "221/221 [==============================] - 3s 13ms/step - loss: 6.2181e-04 - acc: 1.0000\n",
      "Epoch 17/20\n",
      "221/221 [==============================] - 3s 13ms/step - loss: 5.4146e-04 - acc: 1.0000\n",
      "Epoch 18/20\n",
      "221/221 [==============================] - 3s 12ms/step - loss: 4.7219e-04 - acc: 1.0000\n",
      "Epoch 19/20\n",
      "221/221 [==============================] - 3s 12ms/step - loss: 4.2533e-04 - acc: 1.0000\n",
      "Epoch 20/20\n",
      "221/221 [==============================] - 3s 12ms/step - loss: 3.8827e-04 - acc: 1.0000\n",
      "[0.853961700259955, 0.8367346938775511]\n",
      "Epoch 1/20\n",
      "221/221 [==============================] - 3s 15ms/step - loss: 2.0770 - acc: 0.6425\n",
      "Epoch 2/20\n",
      "221/221 [==============================] - 3s 12ms/step - loss: 0.9324 - acc: 0.8235\n",
      "Epoch 3/20\n"
     ]
    },
    {
     "name": "stdout",
     "output_type": "stream",
     "text": [
      "221/221 [==============================] - 3s 12ms/step - loss: 0.7267 - acc: 0.8281\n",
      "Epoch 4/20\n",
      "221/221 [==============================] - 3s 12ms/step - loss: 0.5312 - acc: 0.8416\n",
      "Epoch 5/20\n",
      "221/221 [==============================] - 3s 12ms/step - loss: 0.3416 - acc: 0.9050\n",
      "Epoch 6/20\n",
      "221/221 [==============================] - 3s 13ms/step - loss: 0.1983 - acc: 0.9548\n",
      "Epoch 7/20\n",
      "221/221 [==============================] - 3s 13ms/step - loss: 0.0977 - acc: 0.9774\n",
      "Epoch 8/20\n",
      "221/221 [==============================] - 3s 13ms/step - loss: 0.0329 - acc: 1.0000\n",
      "Epoch 9/20\n",
      "221/221 [==============================] - 3s 13ms/step - loss: 0.0107 - acc: 1.0000\n",
      "Epoch 10/20\n",
      "221/221 [==============================] - 3s 12ms/step - loss: 0.0036 - acc: 1.0000\n",
      "Epoch 11/20\n",
      "221/221 [==============================] - 3s 12ms/step - loss: 0.0019 - acc: 1.0000\n",
      "Epoch 12/20\n",
      "221/221 [==============================] - 3s 12ms/step - loss: 9.3936e-04 - acc: 1.0000\n",
      "Epoch 13/20\n",
      "221/221 [==============================] - 3s 12ms/step - loss: 7.3431e-04 - acc: 1.0000\n",
      "Epoch 14/20\n",
      "221/221 [==============================] - 3s 12ms/step - loss: 5.4717e-04 - acc: 1.0000\n",
      "Epoch 15/20\n",
      "221/221 [==============================] - 3s 12ms/step - loss: 4.1349e-04 - acc: 1.0000\n",
      "Epoch 16/20\n",
      "221/221 [==============================] - 3s 12ms/step - loss: 3.5976e-04 - acc: 1.0000\n",
      "Epoch 17/20\n",
      "221/221 [==============================] - 3s 12ms/step - loss: 3.1977e-04 - acc: 1.0000\n",
      "Epoch 18/20\n",
      "221/221 [==============================] - 3s 11ms/step - loss: 2.8838e-04 - acc: 1.0000\n",
      "Epoch 19/20\n",
      "221/221 [==============================] - 3s 12ms/step - loss: 2.6334e-04 - acc: 1.0000\n",
      "Epoch 20/20\n",
      "221/221 [==============================] - 3s 13ms/step - loss: 2.4577e-04 - acc: 1.0000\n",
      "[1.6635672630449967, 0.8571428571428571]\n"
     ]
    }
   ],
   "source": [
    "models = defaultdict()\n",
    "fields = ['base', 'anusvara', 'visarga', 'vowel', 'adjunct']\n",
    "for field in fields:\n",
    "    num_classes = len(signtoid) if field in ['base', 'vowel', 'adjunct'] else 2\n",
    "    model = Sequential()\n",
    "    model.add(Convolution2D(32, (5, 5), activation='relu', input_shape = (64, 64, 1)))\n",
    "    model.add(MaxPooling2D(pool_size=(2,2), strides=(2, 2)))\n",
    "    model.add(Convolution2D(64, (3, 3), activation='relu'))\n",
    "    model.add(MaxPooling2D(pool_size=(2,2)))\n",
    "    model.add(Flatten())\n",
    "    model.add(Dense(1024, activation='relu'))\n",
    "    model.add(Dense(num_classes, activation='softmax'))\n",
    "    model.compile(loss='categorical_crossentropy', optimizer='adam', metrics=['accuracy'])\n",
    "    model.fit(X_train, to_categorical([entry[field] for entry in y_train], num_classes = num_classes), batch_size=50, epochs=20, verbose=1)\n",
    "    score = model.evaluate(X_test, to_categorical([entry[field] for entry in y_test], num_classes = num_classes), verbose=0)\n",
    "    print(score)\n",
    "    models[field] = model"
   ]
  },
  {
   "cell_type": "code",
   "execution_count": 8,
   "metadata": {},
   "outputs": [],
   "source": [
    "for field in fields:\n",
    "    models[field].save('src/models/{}.h5'.format(field))"
   ]
  }
 ],
 "metadata": {
  "accelerator": "GPU",
  "colab": {
   "collapsed_sections": [],
   "default_view": {},
   "name": "project.ipynb",
   "provenance": [],
   "version": "0.3.2",
   "views": {}
  },
  "kernelspec": {
   "display_name": "Python 3",
   "language": "python",
   "name": "python3"
  },
  "language_info": {
   "codemirror_mode": {
    "name": "ipython",
    "version": 3
   },
   "file_extension": ".py",
   "mimetype": "text/x-python",
   "name": "python",
   "nbconvert_exporter": "python",
   "pygments_lexer": "ipython3",
   "version": "3.6.4"
  }
 },
 "nbformat": 4,
 "nbformat_minor": 1
}
