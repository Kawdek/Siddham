{
 "cells": [
  {
   "cell_type": "code",
   "execution_count": 1,
   "metadata": {
    "colab": {
     "autoexec": {
      "startup": false,
      "wait_interval": 0
     },
     "base_uri": "https://localhost:8080/",
     "height": 34
    },
    "colab_type": "code",
    "executionInfo": {
     "elapsed": 2472,
     "status": "ok",
     "timestamp": 1529022472725,
     "user": {
      "displayName": "Rex Gao",
      "photoUrl": "https://lh3.googleusercontent.com/a/default-user=s128",
      "userId": "110474963976086057359"
     },
     "user_tz": 420
    },
    "id": "7rfYC_jmvHAF",
    "outputId": "4890de5b-d921-4612-fb26-94c2ede2cad5"
   },
   "outputs": [
    {
     "name": "stderr",
     "output_type": "stream",
     "text": [
      "C:\\ProgramData\\Anaconda3\\lib\\site-packages\\h5py\\__init__.py:36: FutureWarning: Conversion of the second argument of issubdtype from `float` to `np.floating` is deprecated. In future, it will be treated as `np.float64 == np.dtype(float).type`.\n",
      "  from ._conv import register_converters as _register_converters\n",
      "Using TensorFlow backend.\n"
     ]
    }
   ],
   "source": [
    "from keras.models import load_model\n",
    "from collections import defaultdict\n",
    "import numpy as np\n",
    "import math\n",
    "import matplotlib.pyplot as plt\n",
    "from src import self\n",
    "%matplotlib inline"
   ]
  },
  {
   "cell_type": "markdown",
   "metadata": {},
   "source": [
    "# First load in data and conversion to/from signs from/to numbers"
   ]
  },
  {
   "cell_type": "code",
   "execution_count": 2,
   "metadata": {
    "colab": {
     "autoexec": {
      "startup": false,
      "wait_interval": 0
     }
    },
    "colab_type": "code",
    "id": "eDeshGd-6dl4"
   },
   "outputs": [],
   "source": [
    "signfile = open(\"data/signs.txt\", \"r\")\n",
    "signtoid = defaultdict()\n",
    "idtosign = defaultdict()\n",
    "for i, line in enumerate(signfile):\n",
    "    signtoid[line.split('\\n')[0]] = i\n",
    "    idtosign[i] = line.split('\\n')[0]"
   ]
  },
  {
   "cell_type": "code",
   "execution_count": 3,
   "metadata": {},
   "outputs": [],
   "source": [
    "ydata = self.tsvtodata(\"data/data.tsv\", signtoid)\n",
    "xdata = self.imgstodata(\"data/\", ydata)\n",
    "X_sample = np.array(xdata)\n",
    "y_sample = np.array(ydata)\n",
    "sample = np.random.permutation(len(xdata))[:int(np.floor(len(xdata)/2))]\n",
    "X_sample = xdata[sample]\n",
    "y_sample = ydata[sample]"
   ]
  },
  {
   "cell_type": "markdown",
   "metadata": {},
   "source": [
    "# Load in models and predict classes for sample data"
   ]
  },
  {
   "cell_type": "code",
   "execution_count": 4,
   "metadata": {
    "colab": {
     "autoexec": {
      "startup": false,
      "wait_interval": 0
     }
    },
    "colab_type": "code",
    "id": "hOfDCNF6aW3z"
   },
   "outputs": [],
   "source": [
    "models = defaultdict()\n",
    "fields = ['base', 'anusvara', 'visarga', 'vowel', 'adjunct']\n",
    "for field in fields:\n",
    "    models[field] = load_model('src/models/{}.h5'.format(field))\n",
    "predict = defaultdict()\n",
    "for field in fields:\n",
    "    predict[field] = models[field].predict_classes(X_sample)\n",
    "y_sample_predict = []\n",
    "for i in range(len(X_sample)):\n",
    "    entry = defaultdict()\n",
    "    entry['ID'] = y_sample[i]['ID']     #just to make identification easier\n",
    "    for field in fields:\n",
    "        entry[field] = predict[field][i]\n",
    "    y_sample_predict.append(entry)\n",
    "y_sample_predict = np.array(y_sample_predict)"
   ]
  },
  {
   "cell_type": "markdown",
   "metadata": {},
   "source": [
    "# Convert predictions to romanization and compare"
   ]
  },
  {
   "cell_type": "code",
   "execution_count": 5,
   "metadata": {
    "colab": {
     "autoexec": {
      "startup": false,
      "wait_interval": 0
     },
     "base_uri": "https://localhost:8080/",
     "height": 34
    },
    "colab_type": "code",
    "executionInfo": {
     "elapsed": 590,
     "status": "ok",
     "timestamp": 1529022774453,
     "user": {
      "displayName": "Rex Gao",
      "photoUrl": "https://lh3.googleusercontent.com/a/default-user=s128",
      "userId": "110474963976086057359"
     },
     "user_tz": 420
    },
    "id": "atVypH-Jvxm8",
    "outputId": "fb241d0a-d7ef-4817-cbe0-d944341293ff"
   },
   "outputs": [
    {
     "name": "stdout",
     "output_type": "stream",
     "text": [
      "Accuracy of final predictions: 62.55%\n"
     ]
    }
   ],
   "source": [
    "y_predictions = self.toromanization(y_sample_predict, idtosign)\n",
    "count = 0\n",
    "match = 0\n",
    "correct = []\n",
    "wrong = []\n",
    "for i in range(len(y_sample)):\n",
    "    count = count + 1\n",
    "    entry = defaultdict()\n",
    "    entry['ID'] = y_sample[i]['ID']\n",
    "    entry['correct'] = y_sample[i]['result']\n",
    "    entry['predicted'] = y_predictions[i]['result']\n",
    "    entry['image'] = X_sample[i]\n",
    "    if y_sample[i]['result'] == y_predictions[i]['result']:\n",
    "        correct.append(entry)\n",
    "        match = match + 1\n",
    "    else:\n",
    "        wrong.append(entry)\n",
    "print(\"Accuracy of final predictions: {0:.2f}%\".format(match/count*100))"
   ]
  },
  {
   "cell_type": "markdown",
   "metadata": {},
   "source": [
    "# Image sample data for correct and incorrect predictions\n",
    "Since incorrect predictions are more informative, I have shown more samples"
   ]
  },
  {
   "cell_type": "code",
   "execution_count": 6,
   "metadata": {},
   "outputs": [
    {
     "name": "stdout",
     "output_type": "stream",
     "text": [
      "Correct predictions:\n",
      "Data #0276\n"
     ]
    },
    {
     "data": {
      "image/png": "[encoded data removed]",
      "text/plain": [
       "<matplotlib.figure.Figure at 0x1b8cf105048>"
      ]
     },
     "metadata": {},
     "output_type": "display_data"
    },
    {
     "name": "stdout",
     "output_type": "stream",
     "text": [
      "Correct romanization: NaM\n",
      "Predicted romanization: NaM\n",
      "Data #0491\n"
     ]
    },
    {
     "data": {
      "image/png": "[encoded data removed]",
      "text/plain": [
       "<matplotlib.figure.Figure at 0x1b8d0270208>"
      ]
     },
     "metadata": {},
     "output_type": "display_data"
    },
    {
     "name": "stdout",
     "output_type": "stream",
     "text": [
      "Correct romanization: va\n",
      "Predicted romanization: va\n",
      "Data #0400\n"
     ]
    },
    {
     "data": {
      "image/png": "[encoded data removed]",
      "text/plain": [
       "<matplotlib.figure.Figure at 0x1b881999e10>"
      ]
     },
     "metadata": {},
     "output_type": "display_data"
    },
    {
     "name": "stdout",
     "output_type": "stream",
     "text": [
      "Correct romanization: U\n",
      "Predicted romanization: U\n",
      "Data #0359\n"
     ]
    },
    {
     "data": {
      "image/png": "[encoded data removed]",
      "text/plain": [
       "<matplotlib.figure.Figure at 0x1b8d02bbac8>"
      ]
     },
     "metadata": {},
     "output_type": "display_data"
    },
    {
     "name": "stdout",
     "output_type": "stream",
     "text": [
      "Correct romanization: a\n",
      "Predicted romanization: a\n",
      "Data #0409\n"
     ]
    },
    {
     "data": {
      "image/png": "[encoded data removed]",
      "text/plain": [
       "<matplotlib.figure.Figure at 0x1b8d020e160>"
      ]
     },
     "metadata": {},
     "output_type": "display_data"
    },
    {
     "name": "stdout",
     "output_type": "stream",
     "text": [
      "Correct romanization: k\n",
      "Predicted romanization: k\n"
     ]
    }
   ],
   "source": [
    "correct_sample = np.random.choice(correct, 5)\n",
    "print(\"Correct predictions:\")\n",
    "for sample in correct_sample:\n",
    "    print(\"Data #\" + sample['ID'])\n",
    "    plt.imshow(np.reshape(sample['image'], (64, 64)))\n",
    "    plt.show()\n",
    "    print(\"Correct romanization: \" + sample['correct'])\n",
    "    print(\"Predicted romanization: \" + sample['predicted'])"
   ]
  },
  {
   "cell_type": "code",
   "execution_count": 9,
   "metadata": {},
   "outputs": [
    {
     "name": "stdout",
     "output_type": "stream",
     "text": [
      "Incorrect predictions:\n",
      "Data ID#: 0174\n"
     ]
    },
    {
     "data": {
      "image/png": "[encoded data removed]",
      "text/plain": [
       "<matplotlib.figure.Figure at 0x1b8cf0fea58>"
      ]
     },
     "metadata": {},
     "output_type": "display_data"
    },
    {
     "name": "stdout",
     "output_type": "stream",
     "text": [
      "Correct romanization: re\n",
      "Predicted romanization: ke\n",
      "Data ID#: 0197\n"
     ]
    },
    {
     "data": {
      "image/png": "[encoded data removed]",
      "text/plain": [
       "<matplotlib.figure.Figure at 0x1b89bc95fd0>"
      ]
     },
     "metadata": {},
     "output_type": "display_data"
    },
    {
     "name": "stdout",
     "output_type": "stream",
     "text": [
      "Correct romanization: khi\n",
      "Predicted romanization: a\n",
      "Data ID#: 0180\n"
     ]
    },
    {
     "data": {
      "image/png": "[encoded data removed]",
      "text/plain": [
       "<matplotlib.figure.Figure at 0x1b89bce13c8>"
      ]
     },
     "metadata": {},
     "output_type": "display_data"
    },
    {
     "name": "stdout",
     "output_type": "stream",
     "text": [
      "Correct romanization: su\n",
      "Predicted romanization: tu\n",
      "Data ID#: 0008\n"
     ]
    },
    {
     "data": {
      "image/png": "[encoded data removed]",
      "text/plain": [
       "<matplotlib.figure.Figure at 0x1b89bbc8e80>"
      ]
     },
     "metadata": {},
     "output_type": "display_data"
    },
    {
     "name": "stdout",
     "output_type": "stream",
     "text": [
      "Correct romanization: le\n",
      "Predicted romanization: tkhe\n",
      "Data ID#: 0080\n"
     ]
    },
    {
     "data": {
      "image/png": "[encoded data removed]",
      "text/plain": [
       "<matplotlib.figure.Figure at 0x1b89bc7f550>"
      ]
     },
     "metadata": {},
     "output_type": "display_data"
    },
    {
     "name": "stdout",
     "output_type": "stream",
     "text": [
      "Correct romanization: gi\n",
      "Predicted romanization: a\n",
      "Data ID#: 0355\n"
     ]
    },
    {
     "data": {
      "image/png": "[encoded data removed]",
      "text/plain": [
       "<matplotlib.figure.Figure at 0x1b89bde1550>"
      ]
     },
     "metadata": {},
     "output_type": "display_data"
    },
    {
     "name": "stdout",
     "output_type": "stream",
     "text": [
      "Correct romanization: hu\n",
      "Predicted romanization: ka\n",
      "Data ID#: 0107\n"
     ]
    },
    {
     "data": {
      "image/png": "[encoded data removed]",
      "text/plain": [
       "<matplotlib.figure.Figure at 0x1b89be435f8>"
      ]
     },
     "metadata": {},
     "output_type": "display_data"
    },
    {
     "name": "stdout",
     "output_type": "stream",
     "text": [
      "Correct romanization: sI\n",
      "Predicted romanization: a\n",
      "Data ID#: 0003\n"
     ]
    },
    {
     "data": {
      "image/png": "[encoded data removed]",
      "text/plain": [
       "<matplotlib.figure.Figure at 0x1b89be187f0>"
      ]
     },
     "metadata": {},
     "output_type": "display_data"
    },
    {
     "name": "stdout",
     "output_type": "stream",
     "text": [
      "Correct romanization: ya\n",
      "Predicted romanization: pa\n",
      "Data ID#: 0041\n"
     ]
    },
    {
     "data": {
      "image/png": "[encoded data removed]",
      "text/plain": [
       "<matplotlib.figure.Figure at 0x1b89bda2978>"
      ]
     },
     "metadata": {},
     "output_type": "display_data"
    },
    {
     "name": "stdout",
     "output_type": "stream",
     "text": [
      "Correct romanization: sa\n",
      "Predicted romanization: na\n",
      "Data ID#: 0333\n"
     ]
    },
    {
     "data": {
      "image/png": "[encoded data removed]",
      "text/plain": [
       "<matplotlib.figure.Figure at 0x1b89bed3240>"
      ]
     },
     "metadata": {},
     "output_type": "display_data"
    },
    {
     "name": "stdout",
     "output_type": "stream",
     "text": [
      "Correct romanization: ga\n",
      "Predicted romanization: ta\n"
     ]
    }
   ],
   "source": [
    "wrong_sample = np.random.choice(wrong, 10)\n",
    "print(\"Incorrect predictions:\")\n",
    "for sample in wrong_sample:\n",
    "    print(\"Data ID#: \" + sample['ID'])\n",
    "    plt.imshow(np.reshape(sample['image'], (64, 64)))\n",
    "    plt.show()\n",
    "    print(\"Correct romanization: \" + sample['correct'])\n",
    "    print(\"Predicted romanization: \" + sample['predicted'])"
   ]
  },
  {
   "cell_type": "code",
   "execution_count": null,
   "metadata": {},
   "outputs": [],
   "source": []
  }
 ],
 "metadata": {
  "accelerator": "GPU",
  "colab": {
   "collapsed_sections": [],
   "default_view": {},
   "name": "project.ipynb",
   "provenance": [],
   "version": "0.3.2",
   "views": {}
  },
  "kernelspec": {
   "display_name": "Python 3",
   "language": "python",
   "name": "python3"
  },
  "language_info": {
   "codemirror_mode": {
    "name": "ipython",
    "version": 3
   },
   "file_extension": ".py",
   "mimetype": "text/x-python",
   "name": "python",
   "nbconvert_exporter": "python",
   "pygments_lexer": "ipython3",
   "version": "3.6.4"
  }
 },
 "nbformat": 4,
 "nbformat_minor": 1
}
